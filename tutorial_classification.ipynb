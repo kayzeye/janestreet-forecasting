{
 "cells": [
  {
   "cell_type": "code",
   "execution_count": 1,
   "metadata": {},
   "outputs": [
    {
     "name": "stdout",
     "output_type": "stream",
     "text": [
      "\u001b[33mWARNING: Running pip as the 'root' user can result in broken permissions and conflicting behaviour with the system package manager. It is recommended to use a virtual environment instead: https://pip.pypa.io/warnings/venv\u001b[0m\u001b[33m\n",
      "\u001b[0m"
     ]
    }
   ],
   "source": [
    "!pip install --quiet -r requirements.txt"
   ]
  },
  {
   "cell_type": "code",
   "execution_count": 2,
   "metadata": {},
   "outputs": [
    {
     "name": "stdout",
     "output_type": "stream",
     "text": [
      "Thu Nov 14 06:07:14 2024       \n",
      "+-----------------------------------------------------------------------------------------+\n",
      "| NVIDIA-SMI 560.35.03              Driver Version: 560.35.03      CUDA Version: 12.6     |\n",
      "|-----------------------------------------+------------------------+----------------------+\n",
      "| GPU  Name                 Persistence-M | Bus-Id          Disp.A | Volatile Uncorr. ECC |\n",
      "| Fan  Temp   Perf          Pwr:Usage/Cap |           Memory-Usage | GPU-Util  Compute M. |\n",
      "|                                         |                        |               MIG M. |\n",
      "|=========================================+========================+======================|\n",
      "|   0  NVIDIA GeForce RTX 3060        Off |   00000000:01:00.0  On |                  N/A |\n",
      "|  0%   43C    P0             42W /  170W |    2568MiB /  12288MiB |     10%      Default |\n",
      "|                                         |                        |                  N/A |\n",
      "+-----------------------------------------+------------------------+----------------------+\n",
      "                                                                                         \n",
      "+-----------------------------------------------------------------------------------------+\n",
      "| Processes:                                                                              |\n",
      "|  GPU   GI   CI        PID   Type   Process name                              GPU Memory |\n",
      "|        ID   ID                                                               Usage      |\n",
      "|=========================================================================================|\n",
      "+-----------------------------------------------------------------------------------------+\n"
     ]
    }
   ],
   "source": [
    "!nvidia-smi\n",
    "#!pip list"
   ]
  },
  {
   "cell_type": "code",
   "execution_count": 3,
   "metadata": {},
   "outputs": [
    {
     "data": {
      "text/html": [
       "<style type='text/css'>\n",
       ".datatable table.frame { margin-bottom: 0; }\n",
       ".datatable table.frame thead { border-bottom: none; }\n",
       ".datatable table.frame tr.coltypes td {  color: #FFFFFF;  line-height: 6px;  padding: 0 0.5em;}\n",
       ".datatable .bool    { background: #DDDD99; }\n",
       ".datatable .object  { background: #565656; }\n",
       ".datatable .int     { background: #5D9E5D; }\n",
       ".datatable .float   { background: #4040CC; }\n",
       ".datatable .str     { background: #CC4040; }\n",
       ".datatable .time    { background: #40CC40; }\n",
       ".datatable .row_index {  background: var(--jp-border-color3);  border-right: 1px solid var(--jp-border-color0);  color: var(--jp-ui-font-color3);  font-size: 9px;}\n",
       ".datatable .frame tbody td { text-align: left; }\n",
       ".datatable .frame tr.coltypes .row_index {  background: var(--jp-border-color0);}\n",
       ".datatable th:nth-child(2) { padding-left: 12px; }\n",
       ".datatable .hellipsis {  color: var(--jp-cell-editor-border-color);}\n",
       ".datatable .vellipsis {  background: var(--jp-layout-color0);  color: var(--jp-cell-editor-border-color);}\n",
       ".datatable .na {  color: var(--jp-cell-editor-border-color);  font-size: 80%;}\n",
       ".datatable .sp {  opacity: 0.25;}\n",
       ".datatable .footer { font-size: 9px; }\n",
       ".datatable .frame_dimensions {  background: var(--jp-border-color3);  border-top: 1px solid var(--jp-border-color0);  color: var(--jp-ui-font-color3);  display: inline-block;  opacity: 0.6;  padding: 1px 10px 1px 5px;}\n",
       "</style>\n"
      ],
      "text/plain": [
       "<IPython.core.display.HTML object>"
      ]
     },
     "metadata": {},
     "output_type": "display_data"
    }
   ],
   "source": [
    "import warnings\n",
    "warnings.filterwarnings('ignore')\n",
    "\n",
    "import os, gc\n",
    "import numpy as np\n",
    "import pandas as pd\n",
    "\n",
    "from hyperopt import hp, fmin, tpe, Trials\n",
    "from hyperopt.pyll.base import scope\n",
    "from sklearn.metrics import roc_auc_score, roc_curve\n",
    "from sklearn.model_selection import GroupKFold\n",
    "import matplotlib.pyplot as plt\n",
    "from tqdm.notebook import tqdm\n",
    "from joblib import dump, load\n",
    "import datatable as dtable\n",
    "#from mlxtend.evaluate import GroupTimeSeriesSplit\n",
    "#import kaggle_evaluation.jane_street_inference_server\n",
    "\n",
    "import torch\n",
    "from torch import nn\n",
    "from torch.utils.data import DataLoader\n",
    "from torchvision import datasets\n",
    "from torchvision.transforms import ToTensor\n",
    "TEST=True"
   ]
  },
  {
   "cell_type": "code",
   "execution_count": 4,
   "metadata": {},
   "outputs": [
    {
     "name": "stdout",
     "output_type": "stream",
     "text": [
      "2.4.1+cu121\n",
      "True\n",
      "NVIDIA GeForce RTX 3060\n"
     ]
    }
   ],
   "source": [
    "# check that torch is working and sees the GPU\n",
    "print(torch.__version__)\n",
    "print(torch.cuda.is_available())\n",
    "print(torch.cuda.get_device_name(0))"
   ]
  },
  {
   "cell_type": "code",
   "execution_count": 5,
   "metadata": {},
   "outputs": [],
   "source": [
    "training_data = datasets.FashionMNIST(\n",
    "    root=\"data\",\n",
    "    train=True,\n",
    "    download=True,\n",
    "    transform=ToTensor(),\n",
    ")\n",
    "\n",
    "test_data = datasets.FashionMNIST(\n",
    "    root=\"data\",\n",
    "    train=False,\n",
    "    download=True,\n",
    "    transform=ToTensor(),\n",
    ")"
   ]
  },
  {
   "cell_type": "code",
   "execution_count": 6,
   "metadata": {},
   "outputs": [
    {
     "name": "stdout",
     "output_type": "stream",
     "text": [
      "Shape of X [N, C, H, W]: torch.Size([64, 1, 28, 28])\n",
      "Shape of y: torch.Size([64]) torch.int64\n"
     ]
    }
   ],
   "source": [
    "batch_size=64\n",
    "\n",
    "# Create data loaders\n",
    "train_dataloader = DataLoader(training_data, batch_size=batch_size)\n",
    "test_dataloader = DataLoader(test_data, batch_size=batch_size)\n",
    "\n",
    "for X, y in test_dataloader:\n",
    "    print(f\"Shape of X [N, C, H, W]: {X.shape}\")\n",
    "    print(f\"Shape of y: {y.shape} {y.dtype}\")\n",
    "    break"
   ]
  },
  {
   "cell_type": "code",
   "execution_count": 8,
   "metadata": {},
   "outputs": [
    {
     "name": "stdout",
     "output_type": "stream",
     "text": [
      "Using cuda device\n",
      "NeuralNetwork(\n",
      "  (flatten): Flatten(start_dim=1, end_dim=-1)\n",
      "  (linear_relu_stack): Sequential(\n",
      "    (0): Linear(in_features=784, out_features=512, bias=True)\n",
      "    (1): ReLU()\n",
      "    (2): Linear(in_features=512, out_features=512, bias=True)\n",
      "    (3): ReLU()\n",
      "    (4): Linear(in_features=512, out_features=10, bias=True)\n",
      "  )\n",
      ")\n"
     ]
    }
   ],
   "source": [
    "# get cpu, gpu or mps device for training\n",
    "device = (\n",
    "    \"cuda\"\n",
    "    if torch.cuda.is_available()\n",
    "    else \"mps\"\n",
    "    if torch.backends.mps.is_available()\n",
    "    else \"cpu\"\n",
    ")\n",
    "print(f\"Using {device} device\")\n",
    "\n",
    "# Define model\n",
    "class NeuralNetwork(nn.Module):\n",
    "    def __init__(self):\n",
    "        super().__init__()\n",
    "        self.flatten = nn.Flatten()\n",
    "        self.linear_relu_stack = nn.Sequential(\n",
    "            nn.Linear(28*28, 512),\n",
    "            nn.ReLU(),\n",
    "            nn.Linear(512, 512),\n",
    "            nn.ReLU(),\n",
    "            nn.Linear(512, 10)\n",
    "        )\n",
    "    def forward(self, x):\n",
    "        x = self.flatten(x)\n",
    "        logits = self.linear_relu_stack(x)\n",
    "        return(logits)\n",
    "\n",
    "model = NeuralNetwork().to(device)\n",
    "print(model)"
   ]
  },
  {
   "cell_type": "code",
   "execution_count": 9,
   "metadata": {},
   "outputs": [],
   "source": [
    "loss_fn = nn.CrossEntropyLoss()\n",
    "# optimizer = torch.optim.SGD(model.parameters(), lr=1e-3)\n",
    "optimizer = torch.optim.Adam(model.parameters(), lr=1e-3)"
   ]
  },
  {
   "cell_type": "code",
   "execution_count": 10,
   "metadata": {},
   "outputs": [],
   "source": [
    "def train(dataloader, model, loss_fn, optimizer):\n",
    "    size = len(dataloader.dataset)\n",
    "    model.train()\n",
    "    for batch, (X, y) in enumerate(dataloader):\n",
    "        X, y = X.to(device), y.to(device)\n",
    "        \n",
    "        # Compute prediction error\n",
    "        pred = model(X)\n",
    "        loss = loss_fn(pred, y)\n",
    "\n",
    "        # backpropagation\n",
    "        loss.backward()\n",
    "        optimizer.step()\n",
    "        optimizer.zero_grad()\n",
    "\n",
    "        if batch % 100 == 0:\n",
    "            print(f'type of X is {type(X)}')\n",
    "            loss, current = loss.item(), (batch+1) * len(X)\n",
    "            print(f\"loss: {loss:>7f} [{current:>5d}|{size:>5d}]\")\n",
    "            #cuda_time = utilization(device)\n",
    "            #print(f\"cuda time: {cuda_time:>1d}\")"
   ]
  },
  {
   "cell_type": "code",
   "execution_count": 11,
   "metadata": {},
   "outputs": [],
   "source": [
    "def test(dataloader, model, loss_fn):\n",
    "    size = len(dataloader.dataset)\n",
    "    num_batches = len(dataloader)\n",
    "    model.eval()\n",
    "    test_loss, correct = 0, 0\n",
    "    with torch.no_grad():\n",
    "        for X, y in dataloader:\n",
    "            X, y = X.to(device), y.to(device)\n",
    "            pred = model(X)\n",
    "            test_loss += loss_fn(pred, y).item()\n",
    "            correct += (pred.argmax(1) == y).type(torch.float).sum().item()\n",
    "    test_loss /= num_batches\n",
    "    correct /= size\n",
    "    print(f\"Test Error: \\n Accuracy: {(100*correct):>0.1f}%, Avg loss: {test_loss:>8f} \\n\")"
   ]
  },
  {
   "cell_type": "code",
   "execution_count": 12,
   "metadata": {},
   "outputs": [
    {
     "name": "stdout",
     "output_type": "stream",
     "text": [
      "Epoch 1\n",
      "-----------------------\n",
      "type of X is <class 'torch.Tensor'>\n",
      "loss: 2.319016 [   64|60000]\n",
      "type of X is <class 'torch.Tensor'>\n",
      "loss: 0.558900 [ 6464|60000]\n",
      "type of X is <class 'torch.Tensor'>\n",
      "loss: 0.386092 [12864|60000]\n",
      "type of X is <class 'torch.Tensor'>\n",
      "loss: 0.502590 [19264|60000]\n",
      "type of X is <class 'torch.Tensor'>\n",
      "loss: 0.496098 [25664|60000]\n",
      "type of X is <class 'torch.Tensor'>\n",
      "loss: 0.425982 [32064|60000]\n",
      "type of X is <class 'torch.Tensor'>\n",
      "loss: 0.375690 [38464|60000]\n",
      "type of X is <class 'torch.Tensor'>\n",
      "loss: 0.523975 [44864|60000]\n",
      "type of X is <class 'torch.Tensor'>\n",
      "loss: 0.518917 [51264|60000]\n",
      "type of X is <class 'torch.Tensor'>\n",
      "loss: 0.566473 [57664|60000]\n",
      "Test Error: \n",
      " Accuracy: 84.1%, Avg loss: 0.432491 \n",
      "\n",
      "Epoch 2\n",
      "-----------------------\n",
      "type of X is <class 'torch.Tensor'>\n",
      "loss: 0.278173 [   64|60000]\n",
      "type of X is <class 'torch.Tensor'>\n",
      "loss: 0.358616 [ 6464|60000]\n",
      "type of X is <class 'torch.Tensor'>\n",
      "loss: 0.260925 [12864|60000]\n",
      "type of X is <class 'torch.Tensor'>\n",
      "loss: 0.408522 [19264|60000]\n",
      "type of X is <class 'torch.Tensor'>\n",
      "loss: 0.423954 [25664|60000]\n",
      "type of X is <class 'torch.Tensor'>\n",
      "loss: 0.389338 [32064|60000]\n",
      "type of X is <class 'torch.Tensor'>\n",
      "loss: 0.321704 [38464|60000]\n",
      "type of X is <class 'torch.Tensor'>\n",
      "loss: 0.450193 [44864|60000]\n",
      "type of X is <class 'torch.Tensor'>\n",
      "loss: 0.405793 [51264|60000]\n",
      "type of X is <class 'torch.Tensor'>\n",
      "loss: 0.482418 [57664|60000]\n",
      "Test Error: \n",
      " Accuracy: 85.2%, Avg loss: 0.397512 \n",
      "\n",
      "Epoch 3\n",
      "-----------------------\n",
      "type of X is <class 'torch.Tensor'>\n",
      "loss: 0.223766 [   64|60000]\n",
      "type of X is <class 'torch.Tensor'>\n",
      "loss: 0.314947 [ 6464|60000]\n",
      "type of X is <class 'torch.Tensor'>\n",
      "loss: 0.223752 [12864|60000]\n",
      "type of X is <class 'torch.Tensor'>\n",
      "loss: 0.330873 [19264|60000]\n",
      "type of X is <class 'torch.Tensor'>\n",
      "loss: 0.377768 [25664|60000]\n",
      "type of X is <class 'torch.Tensor'>\n",
      "loss: 0.373931 [32064|60000]\n",
      "type of X is <class 'torch.Tensor'>\n",
      "loss: 0.266399 [38464|60000]\n",
      "type of X is <class 'torch.Tensor'>\n",
      "loss: 0.438477 [44864|60000]\n",
      "type of X is <class 'torch.Tensor'>\n",
      "loss: 0.359731 [51264|60000]\n",
      "type of X is <class 'torch.Tensor'>\n",
      "loss: 0.420514 [57664|60000]\n",
      "Test Error: \n",
      " Accuracy: 86.5%, Avg loss: 0.363215 \n",
      "\n",
      "Epoch 4\n",
      "-----------------------\n",
      "type of X is <class 'torch.Tensor'>\n",
      "loss: 0.220240 [   64|60000]\n",
      "type of X is <class 'torch.Tensor'>\n",
      "loss: 0.299084 [ 6464|60000]\n",
      "type of X is <class 'torch.Tensor'>\n",
      "loss: 0.213970 [12864|60000]\n",
      "type of X is <class 'torch.Tensor'>\n",
      "loss: 0.302705 [19264|60000]\n",
      "type of X is <class 'torch.Tensor'>\n",
      "loss: 0.395228 [25664|60000]\n",
      "type of X is <class 'torch.Tensor'>\n",
      "loss: 0.331174 [32064|60000]\n",
      "type of X is <class 'torch.Tensor'>\n",
      "loss: 0.229499 [38464|60000]\n",
      "type of X is <class 'torch.Tensor'>\n",
      "loss: 0.358256 [44864|60000]\n",
      "type of X is <class 'torch.Tensor'>\n",
      "loss: 0.305791 [51264|60000]\n",
      "type of X is <class 'torch.Tensor'>\n",
      "loss: 0.405494 [57664|60000]\n",
      "Test Error: \n",
      " Accuracy: 86.2%, Avg loss: 0.374603 \n",
      "\n",
      "Epoch 5\n",
      "-----------------------\n",
      "type of X is <class 'torch.Tensor'>\n",
      "loss: 0.235957 [   64|60000]\n",
      "type of X is <class 'torch.Tensor'>\n",
      "loss: 0.294214 [ 6464|60000]\n",
      "type of X is <class 'torch.Tensor'>\n",
      "loss: 0.209063 [12864|60000]\n",
      "type of X is <class 'torch.Tensor'>\n",
      "loss: 0.237648 [19264|60000]\n",
      "type of X is <class 'torch.Tensor'>\n",
      "loss: 0.399957 [25664|60000]\n",
      "type of X is <class 'torch.Tensor'>\n",
      "loss: 0.319802 [32064|60000]\n",
      "type of X is <class 'torch.Tensor'>\n",
      "loss: 0.215475 [38464|60000]\n",
      "type of X is <class 'torch.Tensor'>\n",
      "loss: 0.352886 [44864|60000]\n",
      "type of X is <class 'torch.Tensor'>\n",
      "loss: 0.324372 [51264|60000]\n",
      "type of X is <class 'torch.Tensor'>\n",
      "loss: 0.336639 [57664|60000]\n",
      "Test Error: \n",
      " Accuracy: 87.5%, Avg loss: 0.343495 \n",
      "\n",
      "Epoch 6\n",
      "-----------------------\n",
      "type of X is <class 'torch.Tensor'>\n",
      "loss: 0.221821 [   64|60000]\n",
      "type of X is <class 'torch.Tensor'>\n",
      "loss: 0.283343 [ 6464|60000]\n",
      "type of X is <class 'torch.Tensor'>\n",
      "loss: 0.204207 [12864|60000]\n",
      "type of X is <class 'torch.Tensor'>\n",
      "loss: 0.225093 [19264|60000]\n",
      "type of X is <class 'torch.Tensor'>\n",
      "loss: 0.294077 [25664|60000]\n",
      "type of X is <class 'torch.Tensor'>\n",
      "loss: 0.282757 [32064|60000]\n",
      "type of X is <class 'torch.Tensor'>\n",
      "loss: 0.190755 [38464|60000]\n",
      "type of X is <class 'torch.Tensor'>\n",
      "loss: 0.315414 [44864|60000]\n",
      "type of X is <class 'torch.Tensor'>\n",
      "loss: 0.250035 [51264|60000]\n",
      "type of X is <class 'torch.Tensor'>\n",
      "loss: 0.322976 [57664|60000]\n",
      "Test Error: \n",
      " Accuracy: 87.7%, Avg loss: 0.345273 \n",
      "\n",
      "Epoch 7\n",
      "-----------------------\n",
      "type of X is <class 'torch.Tensor'>\n",
      "loss: 0.203564 [   64|60000]\n",
      "type of X is <class 'torch.Tensor'>\n",
      "loss: 0.257666 [ 6464|60000]\n",
      "type of X is <class 'torch.Tensor'>\n",
      "loss: 0.175802 [12864|60000]\n",
      "type of X is <class 'torch.Tensor'>\n",
      "loss: 0.200521 [19264|60000]\n",
      "type of X is <class 'torch.Tensor'>\n",
      "loss: 0.321202 [25664|60000]\n",
      "type of X is <class 'torch.Tensor'>\n",
      "loss: 0.256842 [32064|60000]\n",
      "type of X is <class 'torch.Tensor'>\n",
      "loss: 0.193134 [38464|60000]\n",
      "type of X is <class 'torch.Tensor'>\n",
      "loss: 0.268081 [44864|60000]\n",
      "type of X is <class 'torch.Tensor'>\n",
      "loss: 0.209604 [51264|60000]\n",
      "type of X is <class 'torch.Tensor'>\n",
      "loss: 0.287439 [57664|60000]\n",
      "Test Error: \n",
      " Accuracy: 88.1%, Avg loss: 0.343367 \n",
      "\n",
      "Epoch 8\n",
      "-----------------------\n",
      "type of X is <class 'torch.Tensor'>\n",
      "loss: 0.182299 [   64|60000]\n",
      "type of X is <class 'torch.Tensor'>\n",
      "loss: 0.247405 [ 6464|60000]\n",
      "type of X is <class 'torch.Tensor'>\n",
      "loss: 0.200611 [12864|60000]\n",
      "type of X is <class 'torch.Tensor'>\n",
      "loss: 0.203365 [19264|60000]\n",
      "type of X is <class 'torch.Tensor'>\n",
      "loss: 0.298592 [25664|60000]\n",
      "type of X is <class 'torch.Tensor'>\n",
      "loss: 0.275383 [32064|60000]\n",
      "type of X is <class 'torch.Tensor'>\n",
      "loss: 0.167326 [38464|60000]\n",
      "type of X is <class 'torch.Tensor'>\n",
      "loss: 0.258250 [44864|60000]\n",
      "type of X is <class 'torch.Tensor'>\n",
      "loss: 0.221831 [51264|60000]\n",
      "type of X is <class 'torch.Tensor'>\n",
      "loss: 0.344935 [57664|60000]\n",
      "Test Error: \n",
      " Accuracy: 87.8%, Avg loss: 0.348547 \n",
      "\n",
      "Epoch 9\n",
      "-----------------------\n",
      "type of X is <class 'torch.Tensor'>\n",
      "loss: 0.168810 [   64|60000]\n",
      "type of X is <class 'torch.Tensor'>\n",
      "loss: 0.248140 [ 6464|60000]\n",
      "type of X is <class 'torch.Tensor'>\n",
      "loss: 0.189810 [12864|60000]\n",
      "type of X is <class 'torch.Tensor'>\n",
      "loss: 0.180625 [19264|60000]\n",
      "type of X is <class 'torch.Tensor'>\n",
      "loss: 0.259099 [25664|60000]\n",
      "type of X is <class 'torch.Tensor'>\n",
      "loss: 0.244126 [32064|60000]\n",
      "type of X is <class 'torch.Tensor'>\n",
      "loss: 0.162746 [38464|60000]\n",
      "type of X is <class 'torch.Tensor'>\n",
      "loss: 0.252258 [44864|60000]\n",
      "type of X is <class 'torch.Tensor'>\n",
      "loss: 0.228208 [51264|60000]\n",
      "type of X is <class 'torch.Tensor'>\n",
      "loss: 0.261955 [57664|60000]\n",
      "Test Error: \n",
      " Accuracy: 88.4%, Avg loss: 0.346732 \n",
      "\n",
      "Epoch 10\n",
      "-----------------------\n",
      "type of X is <class 'torch.Tensor'>\n",
      "loss: 0.124880 [   64|60000]\n",
      "type of X is <class 'torch.Tensor'>\n",
      "loss: 0.190656 [ 6464|60000]\n",
      "type of X is <class 'torch.Tensor'>\n",
      "loss: 0.179581 [12864|60000]\n",
      "type of X is <class 'torch.Tensor'>\n",
      "loss: 0.177425 [19264|60000]\n",
      "type of X is <class 'torch.Tensor'>\n",
      "loss: 0.258243 [25664|60000]\n",
      "type of X is <class 'torch.Tensor'>\n",
      "loss: 0.222684 [32064|60000]\n",
      "type of X is <class 'torch.Tensor'>\n",
      "loss: 0.144729 [38464|60000]\n",
      "type of X is <class 'torch.Tensor'>\n",
      "loss: 0.206194 [44864|60000]\n",
      "type of X is <class 'torch.Tensor'>\n",
      "loss: 0.215109 [51264|60000]\n",
      "type of X is <class 'torch.Tensor'>\n",
      "loss: 0.237671 [57664|60000]\n",
      "Test Error: \n",
      " Accuracy: 88.2%, Avg loss: 0.378260 \n",
      "\n",
      "Done!\n"
     ]
    }
   ],
   "source": [
    "epochs = 10\n",
    "for t in range(epochs):\n",
    "    print(f\"Epoch {t+1}\\n-----------------------\")\n",
    "    train(train_dataloader,  model, loss_fn, optimizer)\n",
    "    test(test_dataloader, model, loss_fn)\n",
    "print(\"Done!\")\n"
   ]
  },
  {
   "cell_type": "code",
   "execution_count": 14,
   "metadata": {},
   "outputs": [
    {
     "name": "stdout",
     "output_type": "stream",
     "text": [
      "Saved PyTorch Model State to model.pth\n"
     ]
    }
   ],
   "source": [
    "torch.save(model.state_dict(), \"model.pth\")\n",
    "print(\"Saved PyTorch Model State to model.pth\")"
   ]
  },
  {
   "cell_type": "code",
   "execution_count": 13,
   "metadata": {},
   "outputs": [
    {
     "name": "stdout",
     "output_type": "stream",
     "text": [
      "Model structure: NeuralNetwork(\n",
      "  (flatten): Flatten(start_dim=1, end_dim=-1)\n",
      "  (linear_relu_stack): Sequential(\n",
      "    (0): Linear(in_features=784, out_features=512, bias=True)\n",
      "    (1): ReLU()\n",
      "    (2): Linear(in_features=512, out_features=512, bias=True)\n",
      "    (3): ReLU()\n",
      "    (4): Linear(in_features=512, out_features=10, bias=True)\n",
      "  )\n",
      ")\n",
      "\n",
      "\n",
      "Layer: linear_relu_stack.0.weight | Size: torch.Size([512, 784]) | Values : tensor([[-0.0085, -0.0899, -0.0896,  ..., -0.0081, -0.0081, -0.0084],\n",
      "        [-0.0272, -0.0478, -0.0719,  ..., -0.0275, -0.0422, -0.0462]],\n",
      "       device='cuda:0', grad_fn=<SliceBackward0>) \n",
      "\n",
      "Layer: linear_relu_stack.0.bias | Size: torch.Size([512]) | Values : tensor([0.1853, 0.1406], device='cuda:0', grad_fn=<SliceBackward0>) \n",
      "\n",
      "Layer: linear_relu_stack.2.weight | Size: torch.Size([512, 512]) | Values : tensor([[ 0.0731,  0.1297,  0.3325,  ..., -0.1099, -0.0370, -0.0824],\n",
      "        [-0.0622, -0.0459, -0.0583,  ..., -0.0466,  0.0796, -0.1867]],\n",
      "       device='cuda:0', grad_fn=<SliceBackward0>) \n",
      "\n",
      "Layer: linear_relu_stack.2.bias | Size: torch.Size([512]) | Values : tensor([0.2078, 0.1177], device='cuda:0', grad_fn=<SliceBackward0>) \n",
      "\n",
      "Layer: linear_relu_stack.4.weight | Size: torch.Size([10, 512]) | Values : tensor([[-0.2929, -0.1547,  0.0565,  ..., -0.0208, -0.0106,  0.0787],\n",
      "        [-0.0099,  0.0197, -0.0169,  ..., -0.0671, -0.2935,  0.0460]],\n",
      "       device='cuda:0', grad_fn=<SliceBackward0>) \n",
      "\n",
      "Layer: linear_relu_stack.4.bias | Size: torch.Size([10]) | Values : tensor([-0.1036, -0.1497], device='cuda:0', grad_fn=<SliceBackward0>) \n",
      "\n"
     ]
    }
   ],
   "source": [
    "print(f\"Model structure: {model}\\n\\n\")\n",
    "\n",
    "for name, param in model.named_parameters():\n",
    "    print(f\"Layer: {name} | Size: {param.size()} | Values : {param[:2]} \\n\")"
   ]
  },
  {
   "cell_type": "code",
   "execution_count": 16,
   "metadata": {},
   "outputs": [
    {
     "data": {
      "text/plain": [
       "<All keys matched successfully>"
      ]
     },
     "execution_count": 16,
     "metadata": {},
     "output_type": "execute_result"
    }
   ],
   "source": [
    "lmodel = NeuralNetwork().to(device)\n",
    "lmodel.load_state_dict(torch.load(\"model.pth\", weights_only=True))"
   ]
  },
  {
   "cell_type": "code",
   "execution_count": 17,
   "metadata": {},
   "outputs": [
    {
     "name": "stdout",
     "output_type": "stream",
     "text": [
      "Predicted: \"Ankle boot\", Actual: \"Ankle boot\"\n"
     ]
    }
   ],
   "source": [
    "classes = [\n",
    "    \"T-shirt/top\",\n",
    "    \"Trouser\",\n",
    "    \"Pullover\",\n",
    "    \"Dress\",\n",
    "    \"Coat\",\n",
    "    \"Sandal\",\n",
    "    \"Shirt\",\n",
    "    \"Sneaker\",\n",
    "    \"Bag\",\n",
    "    \"Ankle boot\",\n",
    "]\n",
    "\n",
    "lmodel.eval()\n",
    "x, y = test_data[0][0], test_data[0][1]\n",
    "with torch.no_grad():\n",
    "    x = x.to(device)\n",
    "    pred = lmodel(x)\n",
    "    predicted, actual = classes[pred[0].argmax(0)], classes[y]\n",
    "    print(f'Predicted: \"{predicted}\", Actual: \"{actual}\"')"
   ]
  },
  {
   "cell_type": "code",
   "execution_count": 18,
   "metadata": {},
   "outputs": [
    {
     "data": {
      "text/plain": [
       "tensor(9, device='cuda:0')"
      ]
     },
     "execution_count": 18,
     "metadata": {},
     "output_type": "execute_result"
    }
   ],
   "source": [
    "pred[0].argmax(0)"
   ]
  }
 ],
 "metadata": {
  "kernelspec": {
   "display_name": "Python 3 (ipykernel)",
   "language": "python",
   "name": "python3"
  },
  "language_info": {
   "codemirror_mode": {
    "name": "ipython",
    "version": 3
   },
   "file_extension": ".py",
   "mimetype": "text/x-python",
   "name": "python",
   "nbconvert_exporter": "python",
   "pygments_lexer": "ipython3",
   "version": "3.10.12"
  }
 },
 "nbformat": 4,
 "nbformat_minor": 4
}
